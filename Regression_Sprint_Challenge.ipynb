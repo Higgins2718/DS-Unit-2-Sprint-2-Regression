{
  "nbformat": 4,
  "nbformat_minor": 0,
  "metadata": {
    "colab": {
      "name": "Regression Sprint Challenge.ipynb",
      "version": "0.3.2",
      "provenance": [],
      "include_colab_link": true
    },
    "language_info": {
      "codemirror_mode": {
        "name": "ipython",
        "version": 3
      },
      "file_extension": ".py",
      "mimetype": "text/x-python",
      "name": "python",
      "nbconvert_exporter": "python",
      "pygments_lexer": "ipython3",
      "version": "3.7.1"
    },
    "kernelspec": {
      "display_name": "Python 3",
      "language": "python",
      "name": "python3"
    }
  },
  "cells": [
    {
      "cell_type": "markdown",
      "metadata": {
        "id": "view-in-github",
        "colab_type": "text"
      },
      "source": [
        "<a href=\"https://colab.research.google.com/github/Higgins2718/DS-Unit-2-Sprint-2-Regression/blob/master/Regression_Sprint_Challenge.ipynb\" target=\"_parent\"><img src=\"https://colab.research.google.com/assets/colab-badge.svg\" alt=\"Open In Colab\"/></a>"
      ]
    },
    {
      "cell_type": "markdown",
      "metadata": {
        "id": "MwyzTvmtRB5q",
        "colab_type": "text"
      },
      "source": [
        "_Lambda School Data Science_\n",
        "\n",
        "# Regression Sprint Challenge"
      ]
    },
    {
      "cell_type": "markdown",
      "metadata": {
        "id": "eTT_Ys8vRB5r",
        "colab_type": "text"
      },
      "source": [
        "For this Sprint Challenge, you'll predict the price of used cars. \n",
        "\n",
        "The dataset is real-world. It was collected from advertisements of cars for sale in the Ukraine in 2016.\n",
        "\n",
        "The following import statements have been provided for you, and should be sufficient. But you may not need to use every import. And you are permitted to make additional imports."
      ]
    },
    {
      "cell_type": "code",
      "metadata": {
        "colab_type": "code",
        "id": "YbiJuv5d2jZ7",
        "colab": {}
      },
      "source": [
        "%matplotlib inline\n",
        "import matplotlib.pyplot as plt\n",
        "import numpy as np\n",
        "import pandas as pd\n",
        "import seaborn as sns\n",
        "from sklearn.linear_model import LinearRegression\n",
        "from sklearn.metrics import mean_squared_error, r2_score\n",
        "from sklearn.model_selection import train_test_split\n",
        "from sklearn.tree import DecisionTreeRegressor\n",
        "import statsmodels.api as sm\n",
        "from statsmodels.stats.outliers_influence import variance_inflation_factor"
      ],
      "execution_count": 0,
      "outputs": []
    },
    {
      "cell_type": "markdown",
      "metadata": {
        "id": "v0gces5DRB5v",
        "colab_type": "text"
      },
      "source": [
        "[The dataset](https://raw.githubusercontent.com/ryanleeallred/datasets/master/car_regression.csv) contains 8,495 rows and 9 variables:\n",
        "\n",
        "- make: manufacturer brand\n",
        "- price: seller’s price in advertisement (in USD)\n",
        "- body: car body type\n",
        "- mileage: as mentioned in advertisement (‘000 Km)\n",
        "- engV: rounded engine volume (‘000 cubic cm)\n",
        "- engType: type of fuel\n",
        "- registration: whether car registered in Ukraine or not\n",
        "- year: year of production\n",
        "- drive: drive type\n",
        "\n",
        "Run this cell to read the data:"
      ]
    },
    {
      "cell_type": "code",
      "metadata": {
        "colab_type": "code",
        "id": "FgaItuSL3zxO",
        "outputId": "b9c32072-bcb5-4527-8f14-a7d4d116f94c",
        "colab": {
          "base_uri": "https://localhost:8080/",
          "height": 377
        }
      },
      "source": [
        "df = pd.read_csv('https://raw.githubusercontent.com/ryanleeallred/datasets/master/car_regression.csv')\n",
        "print(df.shape)\n",
        "df.sample(10)"
      ],
      "execution_count": 2,
      "outputs": [
        {
          "output_type": "stream",
          "text": [
            "(8495, 9)\n"
          ],
          "name": "stdout"
        },
        {
          "output_type": "execute_result",
          "data": {
            "text/html": [
              "<div>\n",
              "<style scoped>\n",
              "    .dataframe tbody tr th:only-of-type {\n",
              "        vertical-align: middle;\n",
              "    }\n",
              "\n",
              "    .dataframe tbody tr th {\n",
              "        vertical-align: top;\n",
              "    }\n",
              "\n",
              "    .dataframe thead th {\n",
              "        text-align: right;\n",
              "    }\n",
              "</style>\n",
              "<table border=\"1\" class=\"dataframe\">\n",
              "  <thead>\n",
              "    <tr style=\"text-align: right;\">\n",
              "      <th></th>\n",
              "      <th>make</th>\n",
              "      <th>price</th>\n",
              "      <th>body</th>\n",
              "      <th>mileage</th>\n",
              "      <th>engV</th>\n",
              "      <th>engType</th>\n",
              "      <th>registration</th>\n",
              "      <th>year</th>\n",
              "      <th>drive</th>\n",
              "    </tr>\n",
              "  </thead>\n",
              "  <tbody>\n",
              "    <tr>\n",
              "      <th>2674</th>\n",
              "      <td>17</td>\n",
              "      <td>3400.0</td>\n",
              "      <td>3</td>\n",
              "      <td>133</td>\n",
              "      <td>1.3</td>\n",
              "      <td>1</td>\n",
              "      <td>1</td>\n",
              "      <td>2005</td>\n",
              "      <td>0</td>\n",
              "    </tr>\n",
              "    <tr>\n",
              "      <th>3974</th>\n",
              "      <td>77</td>\n",
              "      <td>10200.0</td>\n",
              "      <td>3</td>\n",
              "      <td>129</td>\n",
              "      <td>2.0</td>\n",
              "      <td>3</td>\n",
              "      <td>1</td>\n",
              "      <td>2006</td>\n",
              "      <td>0</td>\n",
              "    </tr>\n",
              "    <tr>\n",
              "      <th>1412</th>\n",
              "      <td>77</td>\n",
              "      <td>3650.0</td>\n",
              "      <td>3</td>\n",
              "      <td>197</td>\n",
              "      <td>2.0</td>\n",
              "      <td>3</td>\n",
              "      <td>1</td>\n",
              "      <td>1996</td>\n",
              "      <td>0</td>\n",
              "    </tr>\n",
              "    <tr>\n",
              "      <th>6203</th>\n",
              "      <td>39</td>\n",
              "      <td>22500.0</td>\n",
              "      <td>0</td>\n",
              "      <td>70</td>\n",
              "      <td>2.0</td>\n",
              "      <td>0</td>\n",
              "      <td>1</td>\n",
              "      <td>2013</td>\n",
              "      <td>1</td>\n",
              "    </tr>\n",
              "    <tr>\n",
              "      <th>93</th>\n",
              "      <td>74</td>\n",
              "      <td>73900.0</td>\n",
              "      <td>0</td>\n",
              "      <td>1</td>\n",
              "      <td>4.5</td>\n",
              "      <td>0</td>\n",
              "      <td>1</td>\n",
              "      <td>2016</td>\n",
              "      <td>1</td>\n",
              "    </tr>\n",
              "    <tr>\n",
              "      <th>3020</th>\n",
              "      <td>67</td>\n",
              "      <td>5999.0</td>\n",
              "      <td>1</td>\n",
              "      <td>98</td>\n",
              "      <td>1.2</td>\n",
              "      <td>1</td>\n",
              "      <td>1</td>\n",
              "      <td>2007</td>\n",
              "      <td>0</td>\n",
              "    </tr>\n",
              "    <tr>\n",
              "      <th>4926</th>\n",
              "      <td>59</td>\n",
              "      <td>11900.0</td>\n",
              "      <td>5</td>\n",
              "      <td>143</td>\n",
              "      <td>2.0</td>\n",
              "      <td>0</td>\n",
              "      <td>1</td>\n",
              "      <td>2009</td>\n",
              "      <td>0</td>\n",
              "    </tr>\n",
              "    <tr>\n",
              "      <th>4234</th>\n",
              "      <td>26</td>\n",
              "      <td>4100.0</td>\n",
              "      <td>3</td>\n",
              "      <td>108</td>\n",
              "      <td>1.5</td>\n",
              "      <td>1</td>\n",
              "      <td>1</td>\n",
              "      <td>2011</td>\n",
              "      <td>0</td>\n",
              "    </tr>\n",
              "    <tr>\n",
              "      <th>4037</th>\n",
              "      <td>22</td>\n",
              "      <td>8300.0</td>\n",
              "      <td>5</td>\n",
              "      <td>149</td>\n",
              "      <td>1.6</td>\n",
              "      <td>0</td>\n",
              "      <td>1</td>\n",
              "      <td>2012</td>\n",
              "      <td>0</td>\n",
              "    </tr>\n",
              "    <tr>\n",
              "      <th>2742</th>\n",
              "      <td>17</td>\n",
              "      <td>4300.0</td>\n",
              "      <td>3</td>\n",
              "      <td>80</td>\n",
              "      <td>1.3</td>\n",
              "      <td>1</td>\n",
              "      <td>1</td>\n",
              "      <td>2012</td>\n",
              "      <td>0</td>\n",
              "    </tr>\n",
              "  </tbody>\n",
              "</table>\n",
              "</div>"
            ],
            "text/plain": [
              "      make    price  body  mileage  engV  engType  registration  year  drive\n",
              "2674    17   3400.0     3      133   1.3        1             1  2005      0\n",
              "3974    77  10200.0     3      129   2.0        3             1  2006      0\n",
              "1412    77   3650.0     3      197   2.0        3             1  1996      0\n",
              "6203    39  22500.0     0       70   2.0        0             1  2013      1\n",
              "93      74  73900.0     0        1   4.5        0             1  2016      1\n",
              "3020    67   5999.0     1       98   1.2        1             1  2007      0\n",
              "4926    59  11900.0     5      143   2.0        0             1  2009      0\n",
              "4234    26   4100.0     3      108   1.5        1             1  2011      0\n",
              "4037    22   8300.0     5      149   1.6        0             1  2012      0\n",
              "2742    17   4300.0     3       80   1.3        1             1  2012      0"
            ]
          },
          "metadata": {
            "tags": []
          },
          "execution_count": 2
        }
      ]
    },
    {
      "cell_type": "code",
      "metadata": {
        "id": "azUfxkDFSV2O",
        "colab_type": "code",
        "colab": {
          "base_uri": "https://localhost:8080/",
          "height": 197
        },
        "outputId": "123757cb-994f-4bb8-c5d3-4649c7e09aff"
      },
      "source": [
        "df.isnull().sum()"
      ],
      "execution_count": 3,
      "outputs": [
        {
          "output_type": "execute_result",
          "data": {
            "text/plain": [
              "make            0\n",
              "price           0\n",
              "body            0\n",
              "mileage         0\n",
              "engV            0\n",
              "engType         0\n",
              "registration    0\n",
              "year            0\n",
              "drive           0\n",
              "dtype: int64"
            ]
          },
          "metadata": {
            "tags": []
          },
          "execution_count": 3
        }
      ]
    },
    {
      "cell_type": "markdown",
      "metadata": {
        "colab_type": "text",
        "id": "w9gkF-HNUFAV"
      },
      "source": [
        "# Predictive Modeling with Linear Regression"
      ]
    },
    {
      "cell_type": "markdown",
      "metadata": {
        "colab_type": "text",
        "id": "Vy1SWxcYTAC0"
      },
      "source": [
        "## 1.1 Split the data into an X matrix and y vector (`price` is the target we want to predict)."
      ]
    },
    {
      "cell_type": "code",
      "metadata": {
        "colab_type": "code",
        "id": "dwMbM9tUUaOQ",
        "colab": {}
      },
      "source": [
        "features = ['make', \n",
        "            'body', 'mileage', 'engV', 'engType', 'registration', 'year', 'drive']\n",
        "\n",
        "target = 'price'\n",
        "\n",
        "X = df[features]\n",
        "y = df[target]"
      ],
      "execution_count": 0,
      "outputs": []
    },
    {
      "cell_type": "markdown",
      "metadata": {
        "colab_type": "text",
        "id": "Uf_SQswNUPwM"
      },
      "source": [
        "## 1.2 Split the data into test and train sets, using `train_test_split`.\n",
        "You may use a train size of 80% and a test size of 20%."
      ]
    },
    {
      "cell_type": "code",
      "metadata": {
        "colab_type": "code",
        "id": "iIiELKuKUOgR",
        "colab": {}
      },
      "source": [
        "X_train, X_test, y_train, y_test = train_test_split(X, y, train_size=0.80, test_size=0.20, random_state=42)\n"
      ],
      "execution_count": 0,
      "outputs": []
    },
    {
      "cell_type": "markdown",
      "metadata": {
        "colab_type": "text",
        "id": "0AdXWiwoUstf"
      },
      "source": [
        "## 1.3 Use scikit-learn to fit a multiple regression model, using your training data.\n",
        "Use `year` and one or more features of your choice. You will not be evaluated on which features you choose. You may choose to use all features."
      ]
    },
    {
      "cell_type": "code",
      "metadata": {
        "colab_type": "code",
        "id": "Zw70rt71U1xf",
        "colab": {
          "base_uri": "https://localhost:8080/",
          "height": 53
        },
        "outputId": "ce3dff48-74fa-4f22-c1c8-ce3fe720aee2"
      },
      "source": [
        "model = LinearRegression()\n",
        "model.fit(X_train, y_train)"
      ],
      "execution_count": 6,
      "outputs": [
        {
          "output_type": "execute_result",
          "data": {
            "text/plain": [
              "LinearRegression(copy_X=True, fit_intercept=True, n_jobs=None,\n",
              "         normalize=False)"
            ]
          },
          "metadata": {
            "tags": []
          },
          "execution_count": 6
        }
      ]
    },
    {
      "cell_type": "markdown",
      "metadata": {
        "colab_type": "text",
        "id": "82fH2rilU7j3"
      },
      "source": [
        "## 1.4 Report the Intercept and Coefficients for the fitted model."
      ]
    },
    {
      "cell_type": "code",
      "metadata": {
        "colab_type": "code",
        "id": "ue6hCHGqVE83",
        "colab": {
          "base_uri": "https://localhost:8080/",
          "height": 35
        },
        "outputId": "70f1651e-c3ed-4af1-a812-fdeae2cef800"
      },
      "source": [
        "print(model.intercept_)"
      ],
      "execution_count": 7,
      "outputs": [
        {
          "output_type": "stream",
          "text": [
            "-2269355.0772314165\n"
          ],
          "name": "stdout"
        }
      ]
    },
    {
      "cell_type": "code",
      "metadata": {
        "id": "Ubzm5-OKUDvc",
        "colab_type": "code",
        "colab": {
          "base_uri": "https://localhost:8080/",
          "height": 53
        },
        "outputId": "90c38598-305d-4a20-987f-3d93e93f3fcb"
      },
      "source": [
        "print(model.coef_)"
      ],
      "execution_count": 8,
      "outputs": [
        {
          "output_type": "stream",
          "text": [
            "[  -35.16726588 -1770.98509064   -40.26859658   273.03540784\n",
            " -1111.08031708  4535.06013378  1140.73124767  8292.04613874]\n"
          ],
          "name": "stdout"
        }
      ]
    },
    {
      "cell_type": "markdown",
      "metadata": {
        "colab_type": "text",
        "id": "T0CV0OnDVZbu"
      },
      "source": [
        "## 1.5 Use the test data to make predictions."
      ]
    },
    {
      "cell_type": "code",
      "metadata": {
        "colab_type": "code",
        "id": "vrR5b5c3VwE5",
        "colab": {}
      },
      "source": [
        "y_pred = model.predict(X_test)"
      ],
      "execution_count": 0,
      "outputs": []
    },
    {
      "cell_type": "markdown",
      "metadata": {
        "colab_type": "text",
        "id": "ZwQb3gE7VycT"
      },
      "source": [
        "## 1.6 Use the test data to get both the Root Mean Square Error and $R^2$ for the model. \n",
        "You will not be evaluated on how high or low your scores are."
      ]
    },
    {
      "cell_type": "code",
      "metadata": {
        "colab_type": "code",
        "id": "Ym2kjxWhU6b2",
        "colab": {
          "base_uri": "https://localhost:8080/",
          "height": 53
        },
        "outputId": "980a5c76-8a23-498d-bcd8-4122c3fc1009"
      },
      "source": [
        "# Compare predictions to test target\n",
        "rmse = (np.sqrt(mean_squared_error(y_test, y_pred)))\n",
        "r2 = r2_score(y_test, y_pred)\n",
        "print('Root Mean Squared Error', rmse)\n",
        "print('R^2 Score', r2)"
      ],
      "execution_count": 10,
      "outputs": [
        {
          "output_type": "stream",
          "text": [
            "Root Mean Squared Error 21394.43524600266\n",
            "R^2 Score 0.29213322373743256\n"
          ],
          "name": "stdout"
        }
      ]
    },
    {
      "cell_type": "markdown",
      "metadata": {
        "colab_type": "text",
        "id": "kIXhGHIgXHyJ"
      },
      "source": [
        "## 1.7 How should we interpret the coefficient corresponding to the `year` feature?\n",
        "The coefficient corresponding to the `year` feature has a value of approximately 1140.7. `price` has a strong causual relationship with `year`."
      ]
    },
    {
      "cell_type": "code",
      "metadata": {
        "id": "CCxDVqu_X7s_",
        "colab_type": "code",
        "colab": {
          "base_uri": "https://localhost:8080/",
          "height": 179
        },
        "outputId": "a0be50f7-53c8-43d5-d4b2-9050a10a3923"
      },
      "source": [
        "pd.Series(model.coef_, features)"
      ],
      "execution_count": 11,
      "outputs": [
        {
          "output_type": "execute_result",
          "data": {
            "text/plain": [
              "make             -35.167266\n",
              "body           -1770.985091\n",
              "mileage          -40.268597\n",
              "engV             273.035408\n",
              "engType        -1111.080317\n",
              "registration    4535.060134\n",
              "year            1140.731248\n",
              "drive           8292.046139\n",
              "dtype: float64"
            ]
          },
          "metadata": {
            "tags": []
          },
          "execution_count": 11
        }
      ]
    },
    {
      "cell_type": "markdown",
      "metadata": {
        "colab_type": "text",
        "id": "ckQ5GsOtYsjn"
      },
      "source": [
        "## 1.8 How should we interpret the Root Mean Square Error?\n",
        "It is very high, suggesting this model is innaccurate at predicting price given the current state of our featurers."
      ]
    },
    {
      "cell_type": "markdown",
      "metadata": {
        "colab_type": "text",
        "id": "T3sZrru_YzFF"
      },
      "source": [
        "## 1.9 How should we interpret the $R^2$?\n",
        "One sentence can be sufficient"
      ]
    },
    {
      "cell_type": "markdown",
      "metadata": {
        "colab_type": "text",
        "id": "5pN2Oet_Y5jR"
      },
      "source": [
        "The R^2 score is low—this is especially disappointing given the number of features we added. It also suggests our model has performed poorly."
      ]
    },
    {
      "cell_type": "markdown",
      "metadata": {
        "colab_type": "text",
        "id": "Z_VNy7e3Y5sT"
      },
      "source": [
        "# Log-Linear and Polynomial Regression"
      ]
    },
    {
      "cell_type": "markdown",
      "metadata": {
        "colab_type": "text",
        "id": "G2T4FSqRZOJA"
      },
      "source": [
        "## 2.1 Engineer a new variable by taking the log of the price varible."
      ]
    },
    {
      "cell_type": "code",
      "metadata": {
        "colab_type": "code",
        "id": "7EChAFNxZX24",
        "colab": {}
      },
      "source": [
        "df['log_price'] = np.log(df['price'])"
      ],
      "execution_count": 0,
      "outputs": []
    },
    {
      "cell_type": "markdown",
      "metadata": {
        "colab_type": "text",
        "id": "R117rxnOZw6q"
      },
      "source": [
        "## 2.2 Visualize scatterplots of the relationship between each feature versus the log of price, to look for non-linearly distributed features.\n",
        "You may use any plotting tools and techniques."
      ]
    },
    {
      "cell_type": "code",
      "metadata": {
        "colab_type": "code",
        "id": "8l56Qk7VaBrU",
        "colab": {}
      },
      "source": [
        "log_price = 'log_price'\n",
        "features_graph = df.columns.drop(log_price)\n",
        "n = 0\n",
        "for feature in features:\n",
        "    sns.lmplot(x=features_graph[n], y=log_price, data=df, scatter_kws=dict(alpha=0.1))\n",
        "    plt.show()\n",
        "    n += 1"
      ],
      "execution_count": 0,
      "outputs": []
    },
    {
      "cell_type": "markdown",
      "metadata": {
        "colab_type": "text",
        "id": "QTf4gCaDaiCw"
      },
      "source": [
        "## 2.3 Create polynomial feature(s)\n",
        "You will not be evaluated on which feature(s) you choose. But try to choose appropriate features."
      ]
    },
    {
      "cell_type": "code",
      "metadata": {
        "colab_type": "code",
        "id": "ipsCcH83ZMe8",
        "colab": {}
      },
      "source": [
        "# Visualizing without the distraction of log_price\n",
        "# A simple modification of the above code-cell\n",
        "\n",
        "graph_target = 'price'\n",
        "features_graph = df.columns.drop(graph_target)\n",
        "n = 0\n",
        "for feature in features_graph:\n",
        "    sns.lmplot(x=features_graph[n], y=graph_target, data=df, scatter_kws=dict(alpha=0.1))\n",
        "    plt.show()\n",
        "    n += 1"
      ],
      "execution_count": 0,
      "outputs": []
    },
    {
      "cell_type": "markdown",
      "metadata": {
        "id": "T1zWQOW0jvIb",
        "colab_type": "text"
      },
      "source": [
        "Year has a nice curve to it."
      ]
    },
    {
      "cell_type": "code",
      "metadata": {
        "id": "tVhPfHjLjw_c",
        "colab_type": "code",
        "colab": {}
      },
      "source": [
        "df['year_squared'] = df['year']**2\n",
        "for feature in ['year', 'year_squared']:\n",
        "    sns.scatterplot(x=feature, y=target, data=df, alpha=0.1)\n",
        "    plt.show()"
      ],
      "execution_count": 0,
      "outputs": []
    },
    {
      "cell_type": "markdown",
      "metadata": {
        "id": "vbbAy7TSkp1A",
        "colab_type": "text"
      },
      "source": [
        "I also want to create a polynomial feature from mileage"
      ]
    },
    {
      "cell_type": "code",
      "metadata": {
        "id": "3BmUn0Ack9Su",
        "colab_type": "code",
        "colab": {}
      },
      "source": [
        "df['mileage_squared'] = df['mileage']**2\n",
        "for feature in ['mileage', 'mileage_squared']:\n",
        "    sns.scatterplot(x=feature, y=target, data=df, alpha=0.1)\n",
        "    plt.show()"
      ],
      "execution_count": 0,
      "outputs": []
    },
    {
      "cell_type": "markdown",
      "metadata": {
        "colab_type": "text",
        "id": "NJgfD-JLayRA"
      },
      "source": [
        "## 2.4 Use the new log-transformed y variable and your x variables (including any new polynomial features) to fit a new linear regression model. Then report the: intercept, coefficients, RMSE, and $R^2$."
      ]
    },
    {
      "cell_type": "code",
      "metadata": {
        "id": "PWA1eHFTlU2H",
        "colab_type": "code",
        "colab": {
          "base_uri": "https://localhost:8080/",
          "height": 204
        },
        "outputId": "487a9f21-ee98-4560-d614-0f2db8d05077"
      },
      "source": [
        "df.head()"
      ],
      "execution_count": 17,
      "outputs": [
        {
          "output_type": "execute_result",
          "data": {
            "text/html": [
              "<div>\n",
              "<style scoped>\n",
              "    .dataframe tbody tr th:only-of-type {\n",
              "        vertical-align: middle;\n",
              "    }\n",
              "\n",
              "    .dataframe tbody tr th {\n",
              "        vertical-align: top;\n",
              "    }\n",
              "\n",
              "    .dataframe thead th {\n",
              "        text-align: right;\n",
              "    }\n",
              "</style>\n",
              "<table border=\"1\" class=\"dataframe\">\n",
              "  <thead>\n",
              "    <tr style=\"text-align: right;\">\n",
              "      <th></th>\n",
              "      <th>make</th>\n",
              "      <th>price</th>\n",
              "      <th>body</th>\n",
              "      <th>mileage</th>\n",
              "      <th>engV</th>\n",
              "      <th>engType</th>\n",
              "      <th>registration</th>\n",
              "      <th>year</th>\n",
              "      <th>drive</th>\n",
              "      <th>log_price</th>\n",
              "      <th>year_squared</th>\n",
              "      <th>mileage_squared</th>\n",
              "    </tr>\n",
              "  </thead>\n",
              "  <tbody>\n",
              "    <tr>\n",
              "      <th>0</th>\n",
              "      <td>23</td>\n",
              "      <td>15500.0</td>\n",
              "      <td>0</td>\n",
              "      <td>68</td>\n",
              "      <td>2.5</td>\n",
              "      <td>1</td>\n",
              "      <td>1</td>\n",
              "      <td>2010</td>\n",
              "      <td>1</td>\n",
              "      <td>9.648595</td>\n",
              "      <td>4040100</td>\n",
              "      <td>4624</td>\n",
              "    </tr>\n",
              "    <tr>\n",
              "      <th>1</th>\n",
              "      <td>50</td>\n",
              "      <td>20500.0</td>\n",
              "      <td>3</td>\n",
              "      <td>173</td>\n",
              "      <td>1.8</td>\n",
              "      <td>1</td>\n",
              "      <td>1</td>\n",
              "      <td>2011</td>\n",
              "      <td>2</td>\n",
              "      <td>9.928180</td>\n",
              "      <td>4044121</td>\n",
              "      <td>29929</td>\n",
              "    </tr>\n",
              "    <tr>\n",
              "      <th>2</th>\n",
              "      <td>50</td>\n",
              "      <td>35000.0</td>\n",
              "      <td>2</td>\n",
              "      <td>135</td>\n",
              "      <td>5.5</td>\n",
              "      <td>3</td>\n",
              "      <td>1</td>\n",
              "      <td>2008</td>\n",
              "      <td>2</td>\n",
              "      <td>10.463103</td>\n",
              "      <td>4032064</td>\n",
              "      <td>18225</td>\n",
              "    </tr>\n",
              "    <tr>\n",
              "      <th>3</th>\n",
              "      <td>50</td>\n",
              "      <td>17800.0</td>\n",
              "      <td>5</td>\n",
              "      <td>162</td>\n",
              "      <td>1.8</td>\n",
              "      <td>0</td>\n",
              "      <td>1</td>\n",
              "      <td>2012</td>\n",
              "      <td>0</td>\n",
              "      <td>9.786954</td>\n",
              "      <td>4048144</td>\n",
              "      <td>26244</td>\n",
              "    </tr>\n",
              "    <tr>\n",
              "      <th>4</th>\n",
              "      <td>55</td>\n",
              "      <td>16600.0</td>\n",
              "      <td>0</td>\n",
              "      <td>83</td>\n",
              "      <td>2.0</td>\n",
              "      <td>3</td>\n",
              "      <td>1</td>\n",
              "      <td>2013</td>\n",
              "      <td>1</td>\n",
              "      <td>9.717158</td>\n",
              "      <td>4052169</td>\n",
              "      <td>6889</td>\n",
              "    </tr>\n",
              "  </tbody>\n",
              "</table>\n",
              "</div>"
            ],
            "text/plain": [
              "   make    price  body  mileage  engV  engType  registration  year  drive  \\\n",
              "0    23  15500.0     0       68   2.5        1             1  2010      1   \n",
              "1    50  20500.0     3      173   1.8        1             1  2011      2   \n",
              "2    50  35000.0     2      135   5.5        3             1  2008      2   \n",
              "3    50  17800.0     5      162   1.8        0             1  2012      0   \n",
              "4    55  16600.0     0       83   2.0        3             1  2013      1   \n",
              "\n",
              "   log_price  year_squared  mileage_squared  \n",
              "0   9.648595       4040100             4624  \n",
              "1   9.928180       4044121            29929  \n",
              "2  10.463103       4032064            18225  \n",
              "3   9.786954       4048144            26244  \n",
              "4   9.717158       4052169             6889  "
            ]
          },
          "metadata": {
            "tags": []
          },
          "execution_count": 17
        }
      ]
    },
    {
      "cell_type": "code",
      "metadata": {
        "colab_type": "code",
        "id": "uXmtVpnPcFij",
        "colab": {}
      },
      "source": [
        "features = ['make', \n",
        "            'body', 'mileage', 'engV', 'engType', 'registration', 'year', 'drive', 'year_squared', 'mileage_squared']\n",
        "\n",
        "target = 'log_price'\n",
        "\n",
        "X = df[features]\n",
        "y = df[target]"
      ],
      "execution_count": 0,
      "outputs": []
    },
    {
      "cell_type": "code",
      "metadata": {
        "id": "mk9hy6B0lunt",
        "colab_type": "code",
        "colab": {}
      },
      "source": [
        "X_train, X_test, y_train, y_test = train_test_split(X, y, train_size=0.80, test_size=0.20, random_state=42)"
      ],
      "execution_count": 0,
      "outputs": []
    },
    {
      "cell_type": "code",
      "metadata": {
        "id": "L5WnykGul4I-",
        "colab_type": "code",
        "colab": {
          "base_uri": "https://localhost:8080/",
          "height": 53
        },
        "outputId": "d4a6638a-a8d5-4cc9-fd21-cec1ead6e3d7"
      },
      "source": [
        "model = LinearRegression()\n",
        "model.fit(X_train, y_train)"
      ],
      "execution_count": 21,
      "outputs": [
        {
          "output_type": "execute_result",
          "data": {
            "text/plain": [
              "LinearRegression(copy_X=True, fit_intercept=True, n_jobs=None,\n",
              "         normalize=False)"
            ]
          },
          "metadata": {
            "tags": []
          },
          "execution_count": 21
        }
      ]
    },
    {
      "cell_type": "code",
      "metadata": {
        "id": "wzKvIA9Bl7eq",
        "colab_type": "code",
        "colab": {
          "base_uri": "https://localhost:8080/",
          "height": 89
        },
        "outputId": "321872fa-12d9-4115-d266-bf826c8e8186"
      },
      "source": [
        "print(model.intercept_)\n",
        "print(model.coef_)"
      ],
      "execution_count": 22,
      "outputs": [
        {
          "output_type": "stream",
          "text": [
            "6082.256345344236\n",
            "[-1.68957134e-03 -9.42269254e-02  7.78177052e-04  8.22070681e-03\n",
            " -4.80904423e-02  6.71842604e-01 -6.17044214e+00  3.74004369e-01\n",
            "  1.56661127e-03 -2.06653079e-07]\n"
          ],
          "name": "stdout"
        }
      ]
    },
    {
      "cell_type": "code",
      "metadata": {
        "id": "QTLLcHqlmMIL",
        "colab_type": "code",
        "colab": {}
      },
      "source": [
        "y_pred = model.predict(X_test)"
      ],
      "execution_count": 0,
      "outputs": []
    },
    {
      "cell_type": "code",
      "metadata": {
        "id": "lmMDAbFKmd1p",
        "colab_type": "code",
        "colab": {
          "base_uri": "https://localhost:8080/",
          "height": 53
        },
        "outputId": "68646959-63e6-43fb-b420-cb12ba4ff893"
      },
      "source": [
        "# Compare predictions to test target\n",
        "rmse = (np.sqrt(mean_squared_error(y_test, y_pred)))\n",
        "r2 = r2_score(y_test, y_pred)\n",
        "print('Root Mean Squared Error', rmse)\n",
        "print('R^2 Score', r2)"
      ],
      "execution_count": 24,
      "outputs": [
        {
          "output_type": "stream",
          "text": [
            "Root Mean Squared Error 0.562808450807755\n",
            "R^2 Score 0.6694853735895996\n"
          ],
          "name": "stdout"
        }
      ]
    },
    {
      "cell_type": "markdown",
      "metadata": {
        "id": "qShQyQOZmjlW",
        "colab_type": "text"
      },
      "source": [
        "\n",
        "Needs improvement, but far, far better than our previous attempt!"
      ]
    },
    {
      "cell_type": "code",
      "metadata": {
        "id": "3qTixHEdmiWI",
        "colab_type": "code",
        "colab": {
          "base_uri": "https://localhost:8080/",
          "height": 215
        },
        "outputId": "262d70cf-182d-48df-f398-438cb44b0338"
      },
      "source": [
        "pd.Series(model.coef_, features)"
      ],
      "execution_count": 25,
      "outputs": [
        {
          "output_type": "execute_result",
          "data": {
            "text/plain": [
              "make              -1.689571e-03\n",
              "body              -9.422693e-02\n",
              "mileage            7.781771e-04\n",
              "engV               8.220707e-03\n",
              "engType           -4.809044e-02\n",
              "registration       6.718426e-01\n",
              "year              -6.170442e+00\n",
              "drive              3.740044e-01\n",
              "year_squared       1.566611e-03\n",
              "mileage_squared   -2.066531e-07\n",
              "dtype: float64"
            ]
          },
          "metadata": {
            "tags": []
          },
          "execution_count": 25
        }
      ]
    },
    {
      "cell_type": "markdown",
      "metadata": {
        "colab_type": "text",
        "id": "hf4_8FXrpHFY"
      },
      "source": [
        "## 2.5 How do we interpret coefficients in Log-Linear Regression (differently than Ordinary Least Squares Regression)?\n",
        "One sentence can be sufficient"
      ]
    },
    {
      "cell_type": "markdown",
      "metadata": {
        "colab_type": "text",
        "id": "JVGKvt5WpTf2"
      },
      "source": [
        "We interprect our coefficients in terms of percentages, rather than raw value increases or decreases in the feature-target relationship (as in OLS)"
      ]
    },
    {
      "cell_type": "markdown",
      "metadata": {
        "colab_type": "text",
        "id": "JUQwzfDRfrQi"
      },
      "source": [
        "# Decision Trees"
      ]
    },
    {
      "cell_type": "markdown",
      "metadata": {
        "colab_type": "text",
        "id": "M_JLfReVeoYT"
      },
      "source": [
        "## 3.1 Use scikit-learn to fit a decision tree regression model, using your training data.\n",
        "Use one or more features of your choice. You will not be evaluated on which features you choose. You may choose to use all features.\n",
        "\n",
        "You may use the log-transformed target or the original un-transformed target. You will not be evaluated on which you choose."
      ]
    },
    {
      "cell_type": "code",
      "metadata": {
        "id": "zpU1wgbtRB6Z",
        "colab_type": "code",
        "colab": {}
      },
      "source": [
        "%matplotlib inline\n",
        "import matplotlib.pyplot as plt\n",
        "\n",
        "def viztree(decision_tree, feature_names):\n",
        "    dot_data = export_graphviz(decision_tree, out_file=None, feature_names=feature_names, \n",
        "                               filled=True, rounded=True)   \n",
        "    return graphviz.Source(dot_data)\n",
        "\n",
        "def putts_tree(max_depth=1):\n",
        "    tree = DecisionTreeRegressor(max_depth=max_depth)\n",
        "    tree.fit(putts_X, putts_y)\n",
        "    print('R^2 Score', tree.score(putts_X, putts_y))\n",
        "    ax = putts.plot('distance', 'rate of success', kind='scatter', title='Golf Putts')\n",
        "    ax.step(putts_X, tree.predict(putts_X), where='mid')\n",
        "    plt.show()\n",
        "    display(viztree(tree, feature_names=['distance']))\n",
        "\n",
        "interact(putts_tree, max_depth=(1,6,1));"
      ],
      "execution_count": 0,
      "outputs": []
    },
    {
      "cell_type": "markdown",
      "metadata": {
        "id": "fToiuK6WRB6c",
        "colab_type": "text"
      },
      "source": [
        "## 3.2 Use the test data to get the $R^2$ for the model. \n",
        "You will not be evaluated on how high or low your scores are."
      ]
    },
    {
      "cell_type": "code",
      "metadata": {
        "id": "ujFhifCtRB6e",
        "colab_type": "code",
        "colab": {}
      },
      "source": [
        ""
      ],
      "execution_count": 0,
      "outputs": []
    },
    {
      "cell_type": "markdown",
      "metadata": {
        "colab_type": "text",
        "id": "Gs20FOntprd_"
      },
      "source": [
        "# Regression Diagnostics"
      ]
    },
    {
      "cell_type": "markdown",
      "metadata": {
        "colab_type": "text",
        "id": "VJnxkobcpulV"
      },
      "source": [
        "## 4.1 Use statsmodels to run a log-linear or log-polynomial linear regression with robust standard errors."
      ]
    },
    {
      "cell_type": "code",
      "metadata": {
        "colab_type": "code",
        "id": "QqCVeYBTpvfQ",
        "colab": {}
      },
      "source": [
        ""
      ],
      "execution_count": 0,
      "outputs": []
    },
    {
      "cell_type": "markdown",
      "metadata": {
        "colab_type": "text",
        "id": "loKma3wspwVs"
      },
      "source": [
        "## 4.2 Calculate the Variance Inflation Factor (VIF) of our X variables. \n",
        "\n",
        "### Do we have multicollinearity problems?\n",
        "One sentence can be sufficient"
      ]
    },
    {
      "cell_type": "code",
      "metadata": {
        "colab_type": "code",
        "id": "EN1mPKWhp2Vn",
        "colab": {}
      },
      "source": [
        ""
      ],
      "execution_count": 0,
      "outputs": []
    }
  ]
}